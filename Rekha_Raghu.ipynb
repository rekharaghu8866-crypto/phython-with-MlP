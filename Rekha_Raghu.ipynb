{
  "nbformat": 4,
  "nbformat_minor": 0,
  "metadata": {
    "colab": {
      "provenance": []
    },
    "kernelspec": {
      "name": "python3",
      "display_name": "Python 3"
    },
    "language_info": {
      "name": "python"
    }
  },
  "cells": [
    {
      "cell_type": "code",
      "execution_count": 5,
      "metadata": {
        "colab": {
          "base_uri": "https://localhost:8080/",
          "height": 106
        },
        "id": "DJKTb4QgAjas",
        "outputId": "bb3c9fb2-6f27-4dde-fb69-ec5745e30d85"
      },
      "outputs": [
        {
          "output_type": "error",
          "ename": "SyntaxError",
          "evalue": "leading zeros in decimal integer literals are not permitted; use an 0o prefix for octal integers (ipython-input-3801785298.py, line 1)",
          "traceback": [
            "\u001b[0;36m  File \u001b[0;32m\"/tmp/ipython-input-3801785298.py\"\u001b[0;36m, line \u001b[0;32m1\u001b[0m\n\u001b[0;31m    assignment 1-03/09/2025\u001b[0m\n\u001b[0m                 ^\u001b[0m\n\u001b[0;31mSyntaxError\u001b[0m\u001b[0;31m:\u001b[0m leading zeros in decimal integer literals are not permitted; use an 0o prefix for octal integers\n"
          ]
        }
      ],
      "source": [
        "assignment 1-03/09/2025"
      ]
    },
    {
      "cell_type": "markdown",
      "source": [],
      "metadata": {
        "id": "uCCA1kYLAxCi"
      }
    },
    {
      "cell_type": "markdown",
      "source": [
        "assignment 1-03/09/2025"
      ],
      "metadata": {
        "id": "i8SPZ2flA-BQ"
      }
    },
    {
      "cell_type": "code",
      "source": [
        "print(\"hello\")"
      ],
      "metadata": {
        "colab": {
          "base_uri": "https://localhost:8080/"
        },
        "id": "0s56nw-OBGDR",
        "outputId": "bd6c8f1f-0d83-4a9e-b150-d4f0e3207df9"
      },
      "execution_count": 6,
      "outputs": [
        {
          "output_type": "stream",
          "name": "stdout",
          "text": [
            "hello\n"
          ]
        }
      ]
    },
    {
      "cell_type": "code",
      "source": [
        "a = 9\n",
        "b = 9\n",
        "\n",
        "a is 9"
      ],
      "metadata": {
        "colab": {
          "base_uri": "https://localhost:8080/"
        },
        "id": "NIdW6NGjiCWp",
        "outputId": "4c7d45d3-d507-417f-db8d-40eb98891d31"
      },
      "execution_count": 7,
      "outputs": [
        {
          "output_type": "stream",
          "name": "stderr",
          "text": [
            "<>:4: SyntaxWarning: \"is\" with 'int' literal. Did you mean \"==\"?\n",
            "<>:4: SyntaxWarning: \"is\" with 'int' literal. Did you mean \"==\"?\n",
            "/tmp/ipython-input-3267921642.py:4: SyntaxWarning: \"is\" with 'int' literal. Did you mean \"==\"?\n",
            "  a is 9\n"
          ]
        },
        {
          "output_type": "execute_result",
          "data": {
            "text/plain": [
              "True"
            ]
          },
          "metadata": {},
          "execution_count": 7
        }
      ]
    },
    {
      "cell_type": "code",
      "source": [
        "a is not b"
      ],
      "metadata": {
        "colab": {
          "base_uri": "https://localhost:8080/"
        },
        "id": "vDRnxVKOiRVM",
        "outputId": "09b0d5b3-a98d-4d0c-d7a4-eb6c393a8064"
      },
      "execution_count": 8,
      "outputs": [
        {
          "output_type": "execute_result",
          "data": {
            "text/plain": [
              "False"
            ]
          },
          "metadata": {},
          "execution_count": 8
        }
      ]
    },
    {
      "cell_type": "markdown",
      "source": [
        "membership operator\n",
        " in      not in\n",
        "\n",
        "\n",
        ""
      ],
      "metadata": {
        "id": "fEoVlgxrioCc"
      }
    },
    {
      "cell_type": "code",
      "source": [
        "pet = ['dog','cat','cow','rabbit']\n",
        "'cat' not in pet"
      ],
      "metadata": {
        "colab": {
          "base_uri": "https://localhost:8080/"
        },
        "id": "Z-_DHGGsjGSS",
        "outputId": "dd81b933-0969-44ee-8f7f-59d65329cc88"
      },
      "execution_count": 9,
      "outputs": [
        {
          "output_type": "execute_result",
          "data": {
            "text/plain": [
              "False"
            ]
          },
          "metadata": {},
          "execution_count": 9
        }
      ]
    },
    {
      "cell_type": "code",
      "source": [
        "'lion'  not in pet"
      ],
      "metadata": {
        "colab": {
          "base_uri": "https://localhost:8080/"
        },
        "id": "HGLWLLwdjpPS",
        "outputId": "41291a59-8802-4099-8499-61253e29eec7"
      },
      "execution_count": 10,
      "outputs": [
        {
          "output_type": "execute_result",
          "data": {
            "text/plain": [
              "True"
            ]
          },
          "metadata": {},
          "execution_count": 10
        }
      ]
    },
    {
      "cell_type": "code",
      "source": [],
      "metadata": {
        "id": "dRjj6Mp9jyrF"
      },
      "execution_count": 10,
      "outputs": []
    },
    {
      "cell_type": "markdown",
      "source": [
        "conditional statements:\n",
        "     it is allows us to make decisions in code. they check conditions (expression that result in true or false)\n",
        "     and  excute different blocks of code accordingly.\n",
        "\n",
        "     type of conditional statements\n",
        "     1) if statment-excute a block only if thecondition is true\n",
        "     2) if else staement-provides two paths: one if condition is true\n",
        "     3) if elif.. lader multiple conditions checked one by one.\n",
        "     4) nesed if-using one if inside another"
      ],
      "metadata": {
        "id": "JT3OI1QqkVpV"
      }
    },
    {
      "cell_type": "markdown",
      "source": [],
      "metadata": {
        "id": "SH3tddQAl-gz"
      }
    },
    {
      "cell_type": "markdown",
      "source": [
        "if statement-excute a block only if the condition is true\n",
        "sytax:\n",
        "  if (conditions):\n",
        "        statements"
      ],
      "metadata": {
        "id": "FRNnrTcjm6pm"
      }
    },
    {
      "cell_type": "code",
      "source": [
        "x = 2\n",
        "\n",
        "if(x>5):\n",
        "  print(\"x is greater than 5\")"
      ],
      "metadata": {
        "id": "xraC6RggnR-J"
      },
      "execution_count": 11,
      "outputs": []
    },
    {
      "cell_type": "code",
      "source": [
        "2) if.. else statement-provides two paths: one if condition is true,another if flase\n",
        "if(condition):\n",
        "  statements\n",
        "else:\n",
        "  statements"
      ],
      "metadata": {
        "id": "LAf_MvTbnhme"
      },
      "execution_count": null,
      "outputs": []
    },
    {
      "cell_type": "code",
      "source": [
        "x = 2\n",
        "\n",
        "if(x>5):\n",
        "  print(\"x is greater than 5\")\n",
        "else:\n",
        "  print(\"x is not greater than 5\")"
      ],
      "metadata": {
        "colab": {
          "base_uri": "https://localhost:8080/"
        },
        "id": "UiF1OcxSpBYX",
        "outputId": "bb0b472b-7751-435b-9442-f826701fb8bf"
      },
      "execution_count": 13,
      "outputs": [
        {
          "output_type": "stream",
          "name": "stdout",
          "text": [
            "x is not greater than 5\n"
          ]
        }
      ]
    },
    {
      "cell_type": "code",
      "source": [
        "3) if..elif..else lader - multiple conditions checked one by one.\n",
        "Syntax\n",
        "     if(condition1):\n",
        "      statements1\n",
        "    else:\n",
        "      if(condition2):\n",
        "        statements2\n",
        "   else:\n",
        "      if(condition3):\n",
        "        statements3\n",
        "    else:\n",
        "      statements\n",
        "\n",
        "\n",
        " if(condition1):\n",
        "      statements1\n",
        " elif(condition2):\n",
        "        statements2\n",
        " elif(condition3):\n",
        "        statements3\n",
        "    else:\n",
        "      statements\n",
        "\n"
      ],
      "metadata": {
        "id": "InXN_8rRpZpu"
      },
      "execution_count": null,
      "outputs": []
    }
  ]
}